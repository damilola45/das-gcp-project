{
 "cells": [
  {
   "cell_type": "code",
   "execution_count": 50,
   "id": "c1a502fc",
   "metadata": {},
   "outputs": [],
   "source": [
    "#pip install --trusted-host pypi.org --trusted-host pypi.python.org --trusted-host=files.pythonhosted.org jupyter-dash -q"
   ]
  },
  {
   "cell_type": "code",
   "execution_count": 51,
   "id": "2e7619e2",
   "metadata": {},
   "outputs": [],
   "source": [
    "#pip install --trusted-host pypi.org --trusted-host pypi.python.org --trusted-host=files.pythonhosted.org dash-cytoscape -q"
   ]
  },
  {
   "cell_type": "code",
   "execution_count": 52,
   "id": "1c638076",
   "metadata": {},
   "outputs": [],
   "source": [
    "# pip install --trusted-host pypi.org --trusted-host pypi.python.org --trusted-host=files.pythonhosted.org streamlit"
   ]
  },
  {
   "cell_type": "code",
   "execution_count": 53,
   "id": "25f5c7a3",
   "metadata": {},
   "outputs": [],
   "source": [
    "#pip install --trusted-host pypi.org --trusted-host pypi.python.org --trusted-host=files.pythonhosted.org scikit-learn"
   ]
  },
  {
   "cell_type": "code",
   "execution_count": 54,
   "id": "ca5f6b0b",
   "metadata": {},
   "outputs": [],
   "source": [
    "#pip install --trusted-host pypi.org --trusted-host pypi.python.org --trusted-host=files.pythonhosted.org xgboost"
   ]
  },
  {
   "cell_type": "code",
   "execution_count": 55,
   "id": "c9c2eb27",
   "metadata": {},
   "outputs": [],
   "source": [
    "#pip install --trusted-host pypi.org --trusted-host pypi.python.org --trusted-host=files.pythonhosted.org shap"
   ]
  },
  {
   "cell_type": "code",
   "execution_count": 56,
   "id": "9213d4dc",
   "metadata": {},
   "outputs": [],
   "source": [
    "\"\"\"\n",
    "Created on Fri Dec 1 2023\n",
    "\n",
    "@author: Naveen \n",
    "\"\"\"\n",
    "import dash\n",
    "from dash import dcc\n",
    "from dash import html\n",
    "import plotly.express as px\n",
    "import pandas as pd\n",
    "import numpy as np\n",
    "import pickle\n",
    "import streamlit as st\n",
    "from sklearn.model_selection import train_test_split\n",
    "from sklearn.preprocessing import LabelEncoder\n",
    "from sklearn.metrics import accuracy_score, classification_report\n",
    "import xgboost as xgb\n",
    "import shap\n",
    "import matplotlib.pyplot as plt\n",
    "from sklearn.linear_model import LinearRegression\n",
    "from sklearn.ensemble import RandomForestRegressor\n",
    "from sklearn.linear_model import Ridge\n",
    "from xgboost import XGBRegressor\n",
    "from sklearn.metrics import mean_squared_error\n",
    "from sklearn.metrics import r2_score"
   ]
  },
  {
   "cell_type": "code",
   "execution_count": 57,
   "id": "936ecec7",
   "metadata": {},
   "outputs": [],
   "source": [
    "# Load dataset\n",
    "df = pd.read_csv(\"C:/data/us_chronic_disease_indicators.csv\")"
   ]
  },
  {
   "cell_type": "code",
   "execution_count": 58,
   "id": "f5fd46d6",
   "metadata": {},
   "outputs": [],
   "source": [
    "#df.info()\n",
    "#df.head(5)"
   ]
  },
  {
   "cell_type": "code",
   "execution_count": 59,
   "id": "11d4b328",
   "metadata": {},
   "outputs": [],
   "source": [
    "# Create a copy of the original data to use in Streamlit app\n",
    "df_original = df.copy()"
   ]
  },
  {
   "cell_type": "code",
   "execution_count": 60,
   "id": "2c7db743",
   "metadata": {},
   "outputs": [],
   "source": [
    "# Exploratory Data Analysis - Dropping Redundant Columns, since the same information is already available\n",
    "# Drop the columns that are not needed for prediction\n",
    "df = df.drop(columns=[\"yearstart\", \"locationabbr\", \"datasource\", \"lowconfidencelimit\", \"highconfidencelimit\", \"geolocation\", \"topicid\", \"questionid\", \"datavaluetypeid\", \"stratificationid1\", \"stratificationcategory1\"])\n",
    "#df = df.drop(columns=[\"locationabbr\", \"datasource\", \"lowconfidencelimit\", \"highconfidencelimit\", \"geolocation\", \"topicid\", \"questionid\", \"datavaluetypeid\", \"stratificationid1\", \"stratificationcategory1\"])\n",
    "#df = df.drop(columns=[\"stratificationcategory1\"])"
   ]
  },
  {
   "cell_type": "code",
   "execution_count": 61,
   "id": "55903607",
   "metadata": {},
   "outputs": [],
   "source": [
    "#Apply filters create the model specific dataset\n",
    "# Step 2: Filter data for the last decade (2010-2019)\n",
    "#df['yearend'] = pd.to_datetime(df['yearend'], format='%Y')\n",
    "#df = df[(df['yearend'] >= '2011-01-01') & (df['yearend'] <= '2020-12-31')]\n",
    "df = df[(df.topic.isin(['Alcohol','Cardiovascular Disease', 'Chronic Kidney Disease', 'Chronic Obstructive Pulmonary Disease', 'Diabetes']))]"
   ]
  },
  {
   "cell_type": "code",
   "execution_count": 62,
   "id": "07abfb26",
   "metadata": {},
   "outputs": [],
   "source": [
    "# Create Final Dataset for Mortality Prediction \n",
    "#result_case_insensitive = df[df['Column1'].str.contains('AN', case=False)]\n",
    "#print(result_case_insensitive)\n",
    "df_mortality = df[df['question'].str.contains('Mortality', case=False) \n",
    "#                  & df.stratificationcategoryid1.isin(['GENDER', 'OVERALL'])\n",
    "                   & df.stratificationcategoryid1.isin([ 'OVERALL'])\n",
    "                  & df.datavaluetype.isin(['Average Annual Number', 'Number'])\n",
    "#                  & df.locationdesc.isin(['Michigan', 'Texas', 'California', 'Tennessee', 'Florida', 'New York', 'Ohio', 'Illinois', 'Pennsylvania'])\n",
    "                  & df.locationdesc.isin(['Alabama', 'Arizona', 'Arkansas', 'Colorado', 'Delware', 'Connecticut', 'Georgia', 'Indiana'])\n",
    "                 ]\n",
    "df_mortality = df_mortality.drop(columns=['datavalueunit', 'datavaluetype','stratification1', 'stratificationcategoryid1'])"
   ]
  },
  {
   "cell_type": "code",
   "execution_count": 63,
   "id": "ba0c945b",
   "metadata": {},
   "outputs": [
    {
     "data": {
      "text/html": [
       "<div>\n",
       "<style scoped>\n",
       "    .dataframe tbody tr th:only-of-type {\n",
       "        vertical-align: middle;\n",
       "    }\n",
       "\n",
       "    .dataframe tbody tr th {\n",
       "        vertical-align: top;\n",
       "    }\n",
       "\n",
       "    .dataframe thead th {\n",
       "        text-align: right;\n",
       "    }\n",
       "</style>\n",
       "<table border=\"1\" class=\"dataframe\">\n",
       "  <thead>\n",
       "    <tr style=\"text-align: right;\">\n",
       "      <th></th>\n",
       "      <th>yearend</th>\n",
       "      <th>locationdesc</th>\n",
       "      <th>topic</th>\n",
       "      <th>question</th>\n",
       "      <th>datavalue</th>\n",
       "    </tr>\n",
       "  </thead>\n",
       "  <tbody>\n",
       "    <tr>\n",
       "      <th>24</th>\n",
       "      <td>2014</td>\n",
       "      <td>Connecticut</td>\n",
       "      <td>Alcohol</td>\n",
       "      <td>Chronic liver disease mortality</td>\n",
       "      <td>375.0</td>\n",
       "    </tr>\n",
       "    <tr>\n",
       "      <th>1038</th>\n",
       "      <td>2014</td>\n",
       "      <td>Connecticut</td>\n",
       "      <td>Chronic Kidney Disease</td>\n",
       "      <td>Mortality with end-stage renal disease</td>\n",
       "      <td>2233.0</td>\n",
       "    </tr>\n",
       "    <tr>\n",
       "      <th>1119</th>\n",
       "      <td>2020</td>\n",
       "      <td>Alabama</td>\n",
       "      <td>Chronic Obstructive Pulmonary Disease</td>\n",
       "      <td>Mortality with chronic obstructive pulmonary d...</td>\n",
       "      <td>3346.0</td>\n",
       "    </tr>\n",
       "    <tr>\n",
       "      <th>1232</th>\n",
       "      <td>2013</td>\n",
       "      <td>Alabama</td>\n",
       "      <td>Chronic Obstructive Pulmonary Disease</td>\n",
       "      <td>Mortality with chronic obstructive pulmonary d...</td>\n",
       "      <td>5112.0</td>\n",
       "    </tr>\n",
       "    <tr>\n",
       "      <th>1234</th>\n",
       "      <td>2017</td>\n",
       "      <td>Alabama</td>\n",
       "      <td>Chronic Obstructive Pulmonary Disease</td>\n",
       "      <td>Mortality with chronic obstructive pulmonary d...</td>\n",
       "      <td>5248.0</td>\n",
       "    </tr>\n",
       "  </tbody>\n",
       "</table>\n",
       "</div>"
      ],
      "text/plain": [
       "      yearend locationdesc                                  topic  \\\n",
       "24       2014  Connecticut                                Alcohol   \n",
       "1038     2014  Connecticut                 Chronic Kidney Disease   \n",
       "1119     2020      Alabama  Chronic Obstructive Pulmonary Disease   \n",
       "1232     2013      Alabama  Chronic Obstructive Pulmonary Disease   \n",
       "1234     2017      Alabama  Chronic Obstructive Pulmonary Disease   \n",
       "\n",
       "                                               question  datavalue  \n",
       "24                      Chronic liver disease mortality      375.0  \n",
       "1038             Mortality with end-stage renal disease     2233.0  \n",
       "1119  Mortality with chronic obstructive pulmonary d...     3346.0  \n",
       "1232  Mortality with chronic obstructive pulmonary d...     5112.0  \n",
       "1234  Mortality with chronic obstructive pulmonary d...     5248.0  "
      ]
     },
     "execution_count": 63,
     "metadata": {},
     "output_type": "execute_result"
    }
   ],
   "source": [
    "df_mortality.head(5)"
   ]
  },
  {
   "cell_type": "code",
   "execution_count": 64,
   "id": "ebd98025",
   "metadata": {},
   "outputs": [],
   "source": [
    "df_mortality = df_mortality.drop(columns=['question'])"
   ]
  },
  {
   "cell_type": "code",
   "execution_count": 65,
   "id": "4ed61e33",
   "metadata": {},
   "outputs": [],
   "source": [
    "df_mortality['locationdesc'] = df['locationdesc'].astype(str)\n",
    "df_mortality['topic'] = df['topic'].astype(str)\n",
    "#df_mortality['question'] = df['question'].astype(str)\n",
    "#df_mortality['datavaluetype'] = df['datavaluetype'].astype(str)\n",
    "#df_mortality['stratification1'] = df['stratification1'].astype(str)\n",
    "#df_mortality['stratificationcategoryid1'] = df['stratificationcategoryid1'].astype(str)\n",
    "#df_mortality = df_mortality.drop(columns=['datavalue', 'datavaluetype','stratification1', 'stratificationcategoryid1'])\n",
    "#df_mortality['yearend'] = (df_mortality['yearend'] - df_mortality['yearend'].min()).dt.days\n",
    "#df_mortality.info()"
   ]
  },
  {
   "cell_type": "code",
   "execution_count": 66,
   "id": "bbe89247",
   "metadata": {},
   "outputs": [],
   "source": [
    "df_mortality = df_mortality.groupby(['yearend', 'locationdesc', 'topic'] )['datavalue'].sum().reset_index()"
   ]
  },
  {
   "cell_type": "code",
   "execution_count": 67,
   "id": "bd71afca",
   "metadata": {},
   "outputs": [
    {
     "data": {
      "text/html": [
       "<div>\n",
       "<style scoped>\n",
       "    .dataframe tbody tr th:only-of-type {\n",
       "        vertical-align: middle;\n",
       "    }\n",
       "\n",
       "    .dataframe tbody tr th {\n",
       "        vertical-align: top;\n",
       "    }\n",
       "\n",
       "    .dataframe thead th {\n",
       "        text-align: right;\n",
       "    }\n",
       "</style>\n",
       "<table border=\"1\" class=\"dataframe\">\n",
       "  <thead>\n",
       "    <tr style=\"text-align: right;\">\n",
       "      <th></th>\n",
       "      <th>yearend</th>\n",
       "      <th>locationdesc</th>\n",
       "      <th>topic</th>\n",
       "      <th>datavalue</th>\n",
       "    </tr>\n",
       "  </thead>\n",
       "  <tbody>\n",
       "    <tr>\n",
       "      <th>0</th>\n",
       "      <td>2010</td>\n",
       "      <td>Alabama</td>\n",
       "      <td>Alcohol</td>\n",
       "      <td>504.0</td>\n",
       "    </tr>\n",
       "    <tr>\n",
       "      <th>1</th>\n",
       "      <td>2010</td>\n",
       "      <td>Alabama</td>\n",
       "      <td>Cardiovascular Disease</td>\n",
       "      <td>41832.0</td>\n",
       "    </tr>\n",
       "    <tr>\n",
       "      <th>2</th>\n",
       "      <td>2010</td>\n",
       "      <td>Alabama</td>\n",
       "      <td>Chronic Kidney Disease</td>\n",
       "      <td>4359.0</td>\n",
       "    </tr>\n",
       "    <tr>\n",
       "      <th>3</th>\n",
       "      <td>2010</td>\n",
       "      <td>Alabama</td>\n",
       "      <td>Chronic Obstructive Pulmonary Disease</td>\n",
       "      <td>7516.0</td>\n",
       "    </tr>\n",
       "    <tr>\n",
       "      <th>4</th>\n",
       "      <td>2010</td>\n",
       "      <td>Alabama</td>\n",
       "      <td>Diabetes</td>\n",
       "      <td>3967.0</td>\n",
       "    </tr>\n",
       "    <tr>\n",
       "      <th>5</th>\n",
       "      <td>2010</td>\n",
       "      <td>Arizona</td>\n",
       "      <td>Alcohol</td>\n",
       "      <td>870.0</td>\n",
       "    </tr>\n",
       "    <tr>\n",
       "      <th>6</th>\n",
       "      <td>2010</td>\n",
       "      <td>Arizona</td>\n",
       "      <td>Cardiovascular Disease</td>\n",
       "      <td>36679.0</td>\n",
       "    </tr>\n",
       "    <tr>\n",
       "      <th>7</th>\n",
       "      <td>2010</td>\n",
       "      <td>Arizona</td>\n",
       "      <td>Chronic Kidney Disease</td>\n",
       "      <td>3386.0</td>\n",
       "    </tr>\n",
       "    <tr>\n",
       "      <th>8</th>\n",
       "      <td>2010</td>\n",
       "      <td>Arizona</td>\n",
       "      <td>Chronic Obstructive Pulmonary Disease</td>\n",
       "      <td>7626.0</td>\n",
       "    </tr>\n",
       "    <tr>\n",
       "      <th>9</th>\n",
       "      <td>2010</td>\n",
       "      <td>Arizona</td>\n",
       "      <td>Diabetes</td>\n",
       "      <td>2793.0</td>\n",
       "    </tr>\n",
       "    <tr>\n",
       "      <th>10</th>\n",
       "      <td>2010</td>\n",
       "      <td>Arkansas</td>\n",
       "      <td>Alcohol</td>\n",
       "      <td>327.0</td>\n",
       "    </tr>\n",
       "    <tr>\n",
       "      <th>11</th>\n",
       "      <td>2010</td>\n",
       "      <td>Arkansas</td>\n",
       "      <td>Cardiovascular Disease</td>\n",
       "      <td>27125.0</td>\n",
       "    </tr>\n",
       "    <tr>\n",
       "      <th>12</th>\n",
       "      <td>2010</td>\n",
       "      <td>Arkansas</td>\n",
       "      <td>Chronic Kidney Disease</td>\n",
       "      <td>2567.0</td>\n",
       "    </tr>\n",
       "    <tr>\n",
       "      <th>13</th>\n",
       "      <td>2010</td>\n",
       "      <td>Arkansas</td>\n",
       "      <td>Chronic Obstructive Pulmonary Disease</td>\n",
       "      <td>4737.0</td>\n",
       "    </tr>\n",
       "    <tr>\n",
       "      <th>14</th>\n",
       "      <td>2010</td>\n",
       "      <td>Arkansas</td>\n",
       "      <td>Diabetes</td>\n",
       "      <td>2357.0</td>\n",
       "    </tr>\n",
       "    <tr>\n",
       "      <th>15</th>\n",
       "      <td>2010</td>\n",
       "      <td>Colorado</td>\n",
       "      <td>Alcohol</td>\n",
       "      <td>599.0</td>\n",
       "    </tr>\n",
       "    <tr>\n",
       "      <th>16</th>\n",
       "      <td>2010</td>\n",
       "      <td>Colorado</td>\n",
       "      <td>Cardiovascular Disease</td>\n",
       "      <td>22975.0</td>\n",
       "    </tr>\n",
       "    <tr>\n",
       "      <th>17</th>\n",
       "      <td>2010</td>\n",
       "      <td>Colorado</td>\n",
       "      <td>Chronic Kidney Disease</td>\n",
       "      <td>2377.0</td>\n",
       "    </tr>\n",
       "    <tr>\n",
       "      <th>18</th>\n",
       "      <td>2010</td>\n",
       "      <td>Colorado</td>\n",
       "      <td>Chronic Obstructive Pulmonary Disease</td>\n",
       "      <td>5917.0</td>\n",
       "    </tr>\n",
       "    <tr>\n",
       "      <th>19</th>\n",
       "      <td>2010</td>\n",
       "      <td>Colorado</td>\n",
       "      <td>Diabetes</td>\n",
       "      <td>2182.0</td>\n",
       "    </tr>\n",
       "  </tbody>\n",
       "</table>\n",
       "</div>"
      ],
      "text/plain": [
       "    yearend locationdesc                                  topic  datavalue\n",
       "0      2010      Alabama                                Alcohol      504.0\n",
       "1      2010      Alabama                 Cardiovascular Disease    41832.0\n",
       "2      2010      Alabama                 Chronic Kidney Disease     4359.0\n",
       "3      2010      Alabama  Chronic Obstructive Pulmonary Disease     7516.0\n",
       "4      2010      Alabama                               Diabetes     3967.0\n",
       "5      2010      Arizona                                Alcohol      870.0\n",
       "6      2010      Arizona                 Cardiovascular Disease    36679.0\n",
       "7      2010      Arizona                 Chronic Kidney Disease     3386.0\n",
       "8      2010      Arizona  Chronic Obstructive Pulmonary Disease     7626.0\n",
       "9      2010      Arizona                               Diabetes     2793.0\n",
       "10     2010     Arkansas                                Alcohol      327.0\n",
       "11     2010     Arkansas                 Cardiovascular Disease    27125.0\n",
       "12     2010     Arkansas                 Chronic Kidney Disease     2567.0\n",
       "13     2010     Arkansas  Chronic Obstructive Pulmonary Disease     4737.0\n",
       "14     2010     Arkansas                               Diabetes     2357.0\n",
       "15     2010     Colorado                                Alcohol      599.0\n",
       "16     2010     Colorado                 Cardiovascular Disease    22975.0\n",
       "17     2010     Colorado                 Chronic Kidney Disease     2377.0\n",
       "18     2010     Colorado  Chronic Obstructive Pulmonary Disease     5917.0\n",
       "19     2010     Colorado                               Diabetes     2182.0"
      ]
     },
     "execution_count": 67,
     "metadata": {},
     "output_type": "execute_result"
    }
   ],
   "source": [
    "df_mortality.head(20)"
   ]
  },
  {
   "cell_type": "code",
   "execution_count": 68,
   "id": "fdbb5971",
   "metadata": {},
   "outputs": [],
   "source": [
    "# 'datavalue' is the Target Variable\n",
    "# Create a copy of the original data to use in Streamlit app\n",
    "df_mortality_original = df_mortality.copy()\n",
    "y = df_mortality['datavalue']\n",
    "X = df_mortality.drop(columns=['datavalue'])\n",
    "y = y.astype(int)"
   ]
  },
  {
   "cell_type": "code",
   "execution_count": 69,
   "id": "694e8a42",
   "metadata": {},
   "outputs": [],
   "source": [
    "# Convert categorical features into numeric by encoding the categories\n",
    "label_encoders = {}\n",
    "for column in X.columns:\n",
    "    if X[column].dtype == type(object):\n",
    "        le = LabelEncoder()\n",
    "        X[column] = le.fit_transform(X[column].astype(str))\n",
    "        label_encoders[column] = le"
   ]
  },
  {
   "cell_type": "code",
   "execution_count": 70,
   "id": "225cd524",
   "metadata": {},
   "outputs": [
    {
     "data": {
      "text/html": [
       "<div>\n",
       "<style scoped>\n",
       "    .dataframe tbody tr th:only-of-type {\n",
       "        vertical-align: middle;\n",
       "    }\n",
       "\n",
       "    .dataframe tbody tr th {\n",
       "        vertical-align: top;\n",
       "    }\n",
       "\n",
       "    .dataframe thead th {\n",
       "        text-align: right;\n",
       "    }\n",
       "</style>\n",
       "<table border=\"1\" class=\"dataframe\">\n",
       "  <thead>\n",
       "    <tr style=\"text-align: right;\">\n",
       "      <th></th>\n",
       "      <th>yearend</th>\n",
       "      <th>locationdesc</th>\n",
       "      <th>topic</th>\n",
       "    </tr>\n",
       "  </thead>\n",
       "  <tbody>\n",
       "    <tr>\n",
       "      <th>165</th>\n",
       "      <td>2014</td>\n",
       "      <td>5</td>\n",
       "      <td>0</td>\n",
       "    </tr>\n",
       "    <tr>\n",
       "      <th>322</th>\n",
       "      <td>2019</td>\n",
       "      <td>1</td>\n",
       "      <td>2</td>\n",
       "    </tr>\n",
       "    <tr>\n",
       "      <th>220</th>\n",
       "      <td>2016</td>\n",
       "      <td>2</td>\n",
       "      <td>0</td>\n",
       "    </tr>\n",
       "    <tr>\n",
       "      <th>94</th>\n",
       "      <td>2012</td>\n",
       "      <td>4</td>\n",
       "      <td>4</td>\n",
       "    </tr>\n",
       "    <tr>\n",
       "      <th>232</th>\n",
       "      <td>2016</td>\n",
       "      <td>4</td>\n",
       "      <td>2</td>\n",
       "    </tr>\n",
       "    <tr>\n",
       "      <th>...</th>\n",
       "      <td>...</td>\n",
       "      <td>...</td>\n",
       "      <td>...</td>\n",
       "    </tr>\n",
       "    <tr>\n",
       "      <th>71</th>\n",
       "      <td>2012</td>\n",
       "      <td>0</td>\n",
       "      <td>1</td>\n",
       "    </tr>\n",
       "    <tr>\n",
       "      <th>106</th>\n",
       "      <td>2013</td>\n",
       "      <td>0</td>\n",
       "      <td>1</td>\n",
       "    </tr>\n",
       "    <tr>\n",
       "      <th>270</th>\n",
       "      <td>2017</td>\n",
       "      <td>5</td>\n",
       "      <td>0</td>\n",
       "    </tr>\n",
       "    <tr>\n",
       "      <th>348</th>\n",
       "      <td>2019</td>\n",
       "      <td>6</td>\n",
       "      <td>3</td>\n",
       "    </tr>\n",
       "    <tr>\n",
       "      <th>102</th>\n",
       "      <td>2012</td>\n",
       "      <td>6</td>\n",
       "      <td>2</td>\n",
       "    </tr>\n",
       "  </tbody>\n",
       "</table>\n",
       "<p>308 rows × 3 columns</p>\n",
       "</div>"
      ],
      "text/plain": [
       "     yearend  locationdesc  topic\n",
       "165     2014             5      0\n",
       "322     2019             1      2\n",
       "220     2016             2      0\n",
       "94      2012             4      4\n",
       "232     2016             4      2\n",
       "..       ...           ...    ...\n",
       "71      2012             0      1\n",
       "106     2013             0      1\n",
       "270     2017             5      0\n",
       "348     2019             6      3\n",
       "102     2012             6      2\n",
       "\n",
       "[308 rows x 3 columns]"
      ]
     },
     "execution_count": 70,
     "metadata": {},
     "output_type": "execute_result"
    }
   ],
   "source": [
    "X_train"
   ]
  },
  {
   "cell_type": "code",
   "execution_count": 71,
   "id": "5f4d1d19",
   "metadata": {},
   "outputs": [
    {
     "data": {
      "text/html": [
       "<div>\n",
       "<style scoped>\n",
       "    .dataframe tbody tr th:only-of-type {\n",
       "        vertical-align: middle;\n",
       "    }\n",
       "\n",
       "    .dataframe tbody tr th {\n",
       "        vertical-align: top;\n",
       "    }\n",
       "\n",
       "    .dataframe thead th {\n",
       "        text-align: right;\n",
       "    }\n",
       "</style>\n",
       "<table border=\"1\" class=\"dataframe\">\n",
       "  <thead>\n",
       "    <tr style=\"text-align: right;\">\n",
       "      <th></th>\n",
       "      <th>yearend</th>\n",
       "      <th>locationdesc</th>\n",
       "      <th>topic</th>\n",
       "    </tr>\n",
       "  </thead>\n",
       "  <tbody>\n",
       "    <tr>\n",
       "      <th>268</th>\n",
       "      <td>2017</td>\n",
       "      <td>4</td>\n",
       "      <td>3</td>\n",
       "    </tr>\n",
       "    <tr>\n",
       "      <th>250</th>\n",
       "      <td>2017</td>\n",
       "      <td>1</td>\n",
       "      <td>0</td>\n",
       "    </tr>\n",
       "    <tr>\n",
       "      <th>355</th>\n",
       "      <td>2020</td>\n",
       "      <td>1</td>\n",
       "      <td>0</td>\n",
       "    </tr>\n",
       "    <tr>\n",
       "      <th>332</th>\n",
       "      <td>2019</td>\n",
       "      <td>3</td>\n",
       "      <td>2</td>\n",
       "    </tr>\n",
       "    <tr>\n",
       "      <th>56</th>\n",
       "      <td>2011</td>\n",
       "      <td>4</td>\n",
       "      <td>1</td>\n",
       "    </tr>\n",
       "    <tr>\n",
       "      <th>...</th>\n",
       "      <td>...</td>\n",
       "      <td>...</td>\n",
       "      <td>...</td>\n",
       "    </tr>\n",
       "    <tr>\n",
       "      <th>104</th>\n",
       "      <td>2012</td>\n",
       "      <td>6</td>\n",
       "      <td>4</td>\n",
       "    </tr>\n",
       "    <tr>\n",
       "      <th>167</th>\n",
       "      <td>2014</td>\n",
       "      <td>5</td>\n",
       "      <td>2</td>\n",
       "    </tr>\n",
       "    <tr>\n",
       "      <th>63</th>\n",
       "      <td>2011</td>\n",
       "      <td>5</td>\n",
       "      <td>3</td>\n",
       "    </tr>\n",
       "    <tr>\n",
       "      <th>233</th>\n",
       "      <td>2016</td>\n",
       "      <td>4</td>\n",
       "      <td>3</td>\n",
       "    </tr>\n",
       "    <tr>\n",
       "      <th>84</th>\n",
       "      <td>2012</td>\n",
       "      <td>2</td>\n",
       "      <td>4</td>\n",
       "    </tr>\n",
       "  </tbody>\n",
       "</table>\n",
       "<p>77 rows × 3 columns</p>\n",
       "</div>"
      ],
      "text/plain": [
       "     yearend  locationdesc  topic\n",
       "268     2017             4      3\n",
       "250     2017             1      0\n",
       "355     2020             1      0\n",
       "332     2019             3      2\n",
       "56      2011             4      1\n",
       "..       ...           ...    ...\n",
       "104     2012             6      4\n",
       "167     2014             5      2\n",
       "63      2011             5      3\n",
       "233     2016             4      3\n",
       "84      2012             2      4\n",
       "\n",
       "[77 rows x 3 columns]"
      ]
     },
     "execution_count": 71,
     "metadata": {},
     "output_type": "execute_result"
    }
   ],
   "source": [
    "X_test"
   ]
  },
  {
   "cell_type": "code",
   "execution_count": 72,
   "id": "d08cc57f",
   "metadata": {},
   "outputs": [
    {
     "data": {
      "text/plain": [
       "165      935\n",
       "322     3695\n",
       "220      416\n",
       "94      1916\n",
       "232     2360\n",
       "       ...  \n",
       "71     41394\n",
       "106    42636\n",
       "270     1146\n",
       "348    14056\n",
       "102     7260\n",
       "Name: datavalue, Length: 308, dtype: int32"
      ]
     },
     "execution_count": 72,
     "metadata": {},
     "output_type": "execute_result"
    }
   ],
   "source": [
    "y_train"
   ]
  },
  {
   "cell_type": "code",
   "execution_count": 73,
   "id": "c67780d5",
   "metadata": {},
   "outputs": [
    {
     "data": {
      "text/plain": [
       "268     4201\n",
       "250     1137\n",
       "355     1431\n",
       "332     3758\n",
       "56     25275\n",
       "       ...  \n",
       "104     5819\n",
       "167     5257\n",
       "63     10080\n",
       "233     4049\n",
       "84      2457\n",
       "Name: datavalue, Length: 77, dtype: int32"
      ]
     },
     "execution_count": 73,
     "metadata": {},
     "output_type": "execute_result"
    }
   ],
   "source": [
    "y_test"
   ]
  },
  {
   "cell_type": "code",
   "execution_count": 74,
   "id": "d79ee8b3",
   "metadata": {
    "lines_to_next_cell": 2
   },
   "outputs": [
    {
     "name": "stdout",
     "output_type": "stream",
     "text": [
      "Linear regression MSE, RMSE & R2: 270911938.6649245 , 16459.402743262726 & 0.03460884396466013 \n",
      "Lasso regression MSE, RMSE & R2: 270910938.320174 , 16459.372354988933 & 0.034612408680116724 \n",
      "Random forest MSE, RMSE & R2: 1037577.4258818168 , 1018.615445534681 & 0.9963026063909013 \n",
      "XGBoost MSE, RMSE & R2: 1290688.8907011477 , 1136.0848959039758 & 0.9954006469909874 \n"
     ]
    }
   ],
   "source": [
    "#class_mapping = {class_label: idx for idx, class_label in enumerate(sorted(y_train.unique()))}\n",
    "#y_train = y_train.map(class_mapping)\n",
    "\n",
    "X_train, X_test, y_train, y_test = train_test_split(X, y, test_size=0.2, random_state=42)\n",
    "\n",
    "# Fit a linear regression model\n",
    "linear_model = LinearRegression()\n",
    "linear_model.fit(X_train, y_train)\n",
    "linear_pred = linear_model.predict(X_test)\n",
    "\n",
    "# Fit a Lasso regression model\n",
    "ridge_model = Ridge(alpha=0.1)\n",
    "ridge_model.fit(X_train, y_train)\n",
    "ridge_pred = ridge_model.predict(X_test)\n",
    "\n",
    "\n",
    "# Fit a random forest model\n",
    "rf_model = RandomForestRegressor(n_estimators=100, random_state=42)\n",
    "rf_model.fit(X_train, y_train)\n",
    "rf_pred = rf_model.predict(X_test)\n",
    "\n",
    "# Fit an XGBoost model\n",
    "xgb_model = XGBRegressor(n_estimators=100, random_state=42)\n",
    "xgb_model.fit(X_train, y_train)\n",
    "xgb_pred = xgb_model.predict(X_test)\n",
    "\n",
    "# Calculate mean squared error for each model\n",
    "linear_mse = mean_squared_error(y_test, linear_pred)\n",
    "ridge_mse = mean_squared_error(y_test, ridge_pred)\n",
    "rf_mse = mean_squared_error(y_test, rf_pred)\n",
    "xgb_mse = mean_squared_error(y_test, xgb_pred)\n",
    "\n",
    "\n",
    "# Calculate Root mean squared error for each model\n",
    "linear_rmse = np.sqrt(linear_mse)\n",
    "ridge_rmse = np.sqrt(ridge_mse)\n",
    "rf_rmse = np.sqrt(rf_mse)\n",
    "xgb_rmse = np.sqrt(xgb_mse)\n",
    "\n",
    "\n",
    "# Calculate R-squared (R2) for each model\n",
    "linear_r2 = r2_score(y_test, linear_pred)\n",
    "ridge_r2 = r2_score(y_test, ridge_pred)\n",
    "rf_r2 = r2_score(y_test, rf_pred)\n",
    "xgb_r2 = r2_score(y_test, xgb_pred)\n",
    "\n",
    "# Print the metric results to asses the model's ability to predict continous values.\n",
    "print(f\"Linear regression MSE, RMSE & R2: {linear_mse} , {linear_rmse} & {linear_r2} \")\n",
    "print(f\"Lasso regression MSE, RMSE & R2: {ridge_mse} , {ridge_rmse} & {ridge_r2} \")\n",
    "print(f\"Random forest MSE, RMSE & R2: {rf_mse} , {rf_rmse} & {rf_r2} \")\n",
    "print(f\"XGBoost MSE, RMSE & R2: {xgb_mse} , {xgb_rmse} & {xgb_r2} \")"
   ]
  },
  {
   "cell_type": "code",
   "execution_count": 75,
   "id": "17502d50",
   "metadata": {},
   "outputs": [
    {
     "data": {
      "image/png": "[encoded data removed]",
      "text/plain": [
       "<Figure size 640x480 with 1 Axes>"
      ]
     },
     "metadata": {},
     "output_type": "display_data"
    }
   ],
   "source": [
    "# Visualize predicted vs actual values (Linear Regression)\n",
    "plt.scatter(y_test, linear_pred)\n",
    "plt.xlabel('Actual Values')\n",
    "plt.ylabel('Predicted Values')\n",
    "plt.title('Actual vs Predicted Values')\n",
    "plt.show()"
   ]
  },
  {
   "cell_type": "code",
   "execution_count": 76,
   "id": "b921a777",
   "metadata": {},
   "outputs": [
    {
     "data": {
      "image/png": "[encoded data removed]",
      "text/plain": [
       "<Figure size 640x480 with 1 Axes>"
      ]
     },
     "metadata": {},
     "output_type": "display_data"
    }
   ],
   "source": [
    "# Visualize predicted vs actual values (Random Forest model)\n",
    "plt.scatter(y_test, rf_pred)\n",
    "plt.xlabel('Actual Values')\n",
    "plt.ylabel('Predicted Values')\n",
    "plt.title('Actual vs Predicted Values')\n",
    "plt.show()"
   ]
  },
  {
   "cell_type": "code",
   "execution_count": 77,
   "id": "f5be412d",
   "metadata": {},
   "outputs": [
    {
     "data": {
      "image/png": "[encoded data removed]",
      "text/plain": [
       "<Figure size 640x480 with 1 Axes>"
      ]
     },
     "metadata": {},
     "output_type": "display_data"
    }
   ],
   "source": [
    "# Visualize predicted vs actual values (XGBoost model)\n",
    "plt.scatter(y_test, xgb_pred)\n",
    "plt.xlabel('Actual Values')\n",
    "plt.ylabel('Predicted Values')\n",
    "plt.title('Actual vs Predicted Values')\n",
    "plt.show()"
   ]
  },
  {
   "cell_type": "code",
   "execution_count": 78,
   "id": "15649b67",
   "metadata": {},
   "outputs": [
    {
     "name": "stdout",
     "output_type": "stream",
     "text": [
      "Number of samples in X_train: 308\n",
      "Number of samples in y_train: 308\n"
     ]
    }
   ],
   "source": [
    "print(\"Number of samples in X_train:\", len(X_train))\n",
    "print(\"Number of samples in y_train:\", len(y_train))"
   ]
  },
  {
   "cell_type": "code",
   "execution_count": 79,
   "id": "34971c78",
   "metadata": {},
   "outputs": [
    {
     "data": {
      "text/plain": [
       "-21054.854510005516"
      ]
     },
     "execution_count": 79,
     "metadata": {},
     "output_type": "execute_result"
    }
   ],
   "source": [
    "linear_model.intercept_"
   ]
  },
  {
   "cell_type": "code",
   "execution_count": 80,
   "id": "716ced6c",
   "metadata": {},
   "outputs": [],
   "source": [
    "y_pred = linear_model.predict(X_train)\n",
    "residuals = y_train - y_pred"
   ]
  },
  {
   "cell_type": "code",
   "execution_count": 81,
   "id": "6e0d6d53",
   "metadata": {},
   "outputs": [
    {
     "data": {
      "text/plain": [
       "2.0197869351061135e-12"
      ]
     },
     "execution_count": 81,
     "metadata": {},
     "output_type": "execute_result"
    }
   ],
   "source": [
    "sum(residuals)/len(residuals) # mean residual"
   ]
  },
  {
   "cell_type": "code",
   "execution_count": 82,
   "id": "9baa2d3d",
   "metadata": {},
   "outputs": [
    {
     "data": {
      "text/plain": [
       "(53110.81195973714, -17914.42894326474)"
      ]
     },
     "execution_count": 82,
     "metadata": {},
     "output_type": "execute_result"
    }
   ],
   "source": [
    "max(residuals), min(residuals)"
   ]
  },
  {
   "cell_type": "code",
   "execution_count": 83,
   "id": "eaf3df69",
   "metadata": {},
   "outputs": [
    {
     "data": {
      "image/png": "[encoded data removed]",
      "text/plain": [
       "<Figure size 640x480 with 1 Axes>"
      ]
     },
     "metadata": {},
     "output_type": "display_data"
    }
   ],
   "source": [
    "#Residuals plot for Linear Regression\n",
    "import matplotlib.pyplot as plt\n",
    "plt.scatter(y_train, residuals)\n",
    "plt.xlabel('Actual Values')\n",
    "plt.ylabel('Residuals')\n",
    "plt.show()"
   ]
  },
  {
   "cell_type": "code",
   "execution_count": 84,
   "id": "254a5a6e",
   "metadata": {},
   "outputs": [],
   "source": [
    "y_pred2 = rf_model.predict(X_train)\n",
    "residuals = y_train - y_pred2"
   ]
  },
  {
   "cell_type": "code",
   "execution_count": 85,
   "id": "ad1a1cd7",
   "metadata": {},
   "outputs": [
    {
     "data": {
      "image/png": "[encoded data removed]",
      "text/plain": [
       "<Figure size 640x480 with 1 Axes>"
      ]
     },
     "metadata": {},
     "output_type": "display_data"
    }
   ],
   "source": [
    "#Residuals plot for Random Forest Regression\n",
    "import matplotlib.pyplot as plt\n",
    "plt.scatter(y_train, residuals)\n",
    "plt.xlabel('Actual Values')\n",
    "plt.ylabel('Residuals')\n",
    "plt.show()"
   ]
  },
  {
   "cell_type": "code",
   "execution_count": 86,
   "id": "d1d59d0f",
   "metadata": {},
   "outputs": [],
   "source": [
    "y_pred1 = xgb_model.predict(X_train)\n",
    "residuals = y_train - y_pred1"
   ]
  },
  {
   "cell_type": "code",
   "execution_count": 87,
   "id": "7dc4f417",
   "metadata": {},
   "outputs": [
    {
     "data": {
      "image/png": "[encoded data removed]",
      "text/plain": [
       "<Figure size 640x480 with 1 Axes>"
      ]
     },
     "metadata": {},
     "output_type": "display_data"
    }
   ],
   "source": [
    "#Residuals plot for Xgb Regression\n",
    "import matplotlib.pyplot as plt\n",
    "plt.scatter(y_train, residuals)\n",
    "plt.xlabel('Actual Values')\n",
    "plt.ylabel('Residuals')\n",
    "plt.show()"
   ]
  },
  {
   "cell_type": "code",
   "execution_count": 88,
   "id": "df5c22f9",
   "metadata": {},
   "outputs": [],
   "source": [
    "# Save the trained model and the label encoders to disk for later use in the Streamlit app\n",
    "with open('model.pkl', 'wb') as f:\n",
    "    pickle.dump(linear_model, f)\n",
    "with open('rf_model.pkl', 'wb') as f:\n",
    "    pickle.dump(rf_model, f)\n",
    "with open('label_encoders.pkl', 'wb') as f:\n",
    "    pickle.dump(label_encoders, f)\n",
    "with open('columns_order.pkl', 'wb') as f:\n",
    "    pickle.dump(X_train.columns.tolist(), f)"
   ]
  },
  {
   "cell_type": "code",
   "execution_count": 89,
   "id": "3f98c256",
   "metadata": {},
   "outputs": [],
   "source": [
    "# Load the saved model and label encoders\n",
    "with open('model.pkl', 'rb') as f:\n",
    "    linear_model = pickle.load(f)\n",
    "with open('rf_model.pkl', 'rb') as f:\n",
    "    rf_model = pickle.load(f)\n",
    "with open('label_encoders.pkl', 'rb') as f:\n",
    "    label_encoders = pickle.load(f)\n",
    "with open('columns_order.pkl', 'rb') as f:\n",
    "    columns_order = pickle.load(f) "
   ]
  },
  {
   "cell_type": "code",
   "execution_count": 90,
   "id": "b9072ba6",
   "metadata": {},
   "outputs": [],
   "source": [
    "# Function to make predictions \n",
    "def predict_mortality_data(mortality_data):\n",
    "    # Convert mortality data into the same format as the training data\n",
    "    for col, value in mortality_data.items():\n",
    "        if col in label_encoders:  # for categorical data\n",
    "            le = label_encoders[col]\n",
    "            if value in le.classes_:\n",
    "                mortality_data[col] = le.transform([value])[0]\n",
    "            else:\n",
    "                mortality_data[col] = le.transform([le.classes_[0]])[0]  # if value is not in classes, use the first class\n",
    "        else:  # for numerical data\n",
    "            mortality_data[col] = float(value)\n",
    "\n",
    "    # Convert patient data into dataframe\n",
    "    df = pd.DataFrame([mortality_data])\n",
    "    df = df[columns_order]\n",
    "    \n",
    "    # Predict the Mortality Avg Number for selected disease\n",
    "    mor = linear_model.predict(df)\n",
    "    return mor"
   ]
  },
  {
   "cell_type": "code",
   "execution_count": 91,
   "id": "bfe832db",
   "metadata": {},
   "outputs": [],
   "source": [
    "# Function to make predictions \n",
    "def predict_mortality_data_rid(mortality_data):\n",
    "    # Convert mortality data into the same format as the training data\n",
    "    for col, value in mortality_data.items():\n",
    "        if col in label_encoders:  # for categorical data\n",
    "            le = label_encoders[col]\n",
    "            if value in le.classes_:\n",
    "                mortality_data[col] = le.transform([value])[0]\n",
    "            else:\n",
    "                mortality_data[col] = le.transform([le.classes_[0]])[0]  # if value is not in classes, use the first class\n",
    "        else:  # for numerical data\n",
    "            mortality_data[col] = float(value)\n",
    "\n",
    "    # Convert patient data into dataframe\n",
    "    df = pd.DataFrame([mortality_data])\n",
    "    df = df[columns_order]\n",
    "    \n",
    "    # Predict the Mortality Avg Number for selected disease\n",
    "    mor_rid = ridge_model.predict(df)\n",
    "    return mor_rid"
   ]
  },
  {
   "cell_type": "code",
   "execution_count": 92,
   "id": "67348eb6",
   "metadata": {},
   "outputs": [],
   "source": [
    "# Function to make predictions \n",
    "def predict_mortality_data_rf(mortality_data):\n",
    "    # Convert mortality data into the same format as the training data\n",
    "    for col, value in mortality_data.items():\n",
    "        if col in label_encoders:  # for categorical data\n",
    "            le = label_encoders[col]\n",
    "            if value in le.classes_:\n",
    "                mortality_data[col] = le.transform([value])[0]\n",
    "            else:\n",
    "                mortality_data[col] = le.transform([le.classes_[0]])[0]  # if value is not in classes, use the first class\n",
    "        else:  # for numerical data\n",
    "            mortality_data[col] = float(value)\n",
    "\n",
    "    # Convert patient data into dataframe\n",
    "    df = pd.DataFrame([mortality_data])\n",
    "    df = df[columns_order]\n",
    "    \n",
    "    # Predict the Mortality Avg Number for selected disease\n",
    "    mor_rf = rf_model.predict(df)\n",
    "    return mor_rf"
   ]
  },
  {
   "cell_type": "code",
   "execution_count": 93,
   "id": "5cacc99f",
   "metadata": {},
   "outputs": [],
   "source": [
    "# Function to make predictions \n",
    "def predict_mortality_data_xgb(mortality_data):\n",
    "    # Convert mortality data into the same format as the training data\n",
    "    for col, value in mortality_data.items():\n",
    "        if col in label_encoders:  # for categorical data\n",
    "            le = label_encoders[col]\n",
    "            if value in le.classes_:\n",
    "                mortality_data[col] = le.transform([value])[0]\n",
    "            else:\n",
    "                mortality_data[col] = le.transform([le.classes_[0]])[0]  # if value is not in classes, use the first class\n",
    "        else:  # for numerical data\n",
    "            mortality_data[col] = float(value)\n",
    "\n",
    "    # Convert patient data into dataframe\n",
    "    df = pd.DataFrame([mortality_data])\n",
    "    df = df[columns_order]\n",
    "    \n",
    "    # Predict the Mortality Avg Number for selected disease\n",
    "    mor_xgb = xgb_model.predict(df)\n",
    "    return mor_xgb"
   ]
  },
  {
   "cell_type": "code",
   "execution_count": 94,
   "id": "a7c56977",
   "metadata": {},
   "outputs": [
    {
     "data": {
      "text/plain": [
       "DeltaGenerator()"
      ]
     },
     "execution_count": 94,
     "metadata": {},
     "output_type": "execute_result"
    }
   ],
   "source": [
    "# Use Streamlit to create the UI\n",
    "st.title('US Disease - Mortality Rate Prediction')"
   ]
  },
  {
   "cell_type": "code",
   "execution_count": 95,
   "id": "e626529f",
   "metadata": {},
   "outputs": [],
   "source": [
    "# Create inputs for all the features\n",
    "mortality_data = {}"
   ]
  },
  {
   "cell_type": "code",
   "execution_count": 96,
   "id": "1aa5926c",
   "metadata": {},
   "outputs": [],
   "source": [
    "for feature_name, le in label_encoders.items():\n",
    "    options = list(le.classes_)  # Get the list of classes seen during training\n",
    "    mortality_data[feature_name] = st.selectbox(f\"Select {feature_name}\", options)"
   ]
  },
  {
   "cell_type": "code",
   "execution_count": 97,
   "id": "f39ac425",
   "metadata": {},
   "outputs": [],
   "source": [
    "numeric_cols = ['yearend']\n",
    "for col in numeric_cols:\n",
    "    mortality_data[col] = st.number_input(f\"Enter {col}\", step=1)  # Use a suitable step size"
   ]
  },
  {
   "cell_type": "code",
   "execution_count": 98,
   "id": "2091592b",
   "metadata": {
    "lines_to_next_cell": 2
   },
   "outputs": [],
   "source": [
    "# Button for making prediction\n",
    "if st.button('Predict Mortality Avg Number'):\n",
    "    prediction_mor = predict_mortality_data(mortality_data)\n",
    "    prediction_mor_rf = predict_mortality_data_rf(mortality_data)\n",
    "    prediction_mor_xgb = predict_mortality_data_xgb(mortality_data)\n",
    "    prediction_mor_rid = predict_mortality_data_rid(mortality_data)\n",
    "    #st.text(prediction_mor)\n",
    "    st.write(f'Mortality Rate for the diseases using Linear Regression is {int(prediction_mor)}')\n",
    "    st.write(f'Mortality Rate for the diseases using Ridge Regression is {int(prediction_mor_rid)}')\n",
    "    st.write(f'Mortality Rate for the diseases using Random Forest is {int(prediction_mor_rf)}')\n",
    "    st.write(f'Mortality Rate for the diseases using Xgb Boost is {int(prediction_mor_xgb)}')"
   ]
  }
 ],
 "metadata": {
  "kernelspec": {
   "display_name": "Python 3 (ipykernel)",
   "language": "python",
   "name": "python3"
  },
  "language_info": {
   "codemirror_mode": {
    "name": "ipython",
    "version": 3
   },
   "file_extension": ".py",
   "mimetype": "text/x-python",
   "name": "python",
   "nbconvert_exporter": "python",
   "pygments_lexer": "ipython3",
   "version": "3.11.5"
  }
 },
 "nbformat": 4,
 "nbformat_minor": 5
}
